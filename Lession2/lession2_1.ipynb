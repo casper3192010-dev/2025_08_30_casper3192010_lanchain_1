{
 "cells": [
  {
   "cell_type": "code",
   "execution_count": 3,
   "id": "bc03f5b9",
   "metadata": {},
   "outputs": [
    {
     "name": "stdout",
     "output_type": "stream",
     "text": [
      "小明\n",
      "<class 'str'>\n",
      "================\n",
      "18\n",
      "<class 'int'>\n",
      "=================\n",
      "175.5\n",
      "<class 'float'>\n",
      "===============\n",
      "True\n",
      "<class 'bool'>\n"
     ]
    }
   ],
   "source": [
    "name = \"小明\"\n",
    "print(name)\n",
    "print(type(name)) #呼叫function\n",
    "print('================')\n",
    "\n",
    "\n",
    "age = 18\n",
    "print(age)\n",
    "print(type(age))\n",
    "print('=================')\n",
    "\n",
    "height = 175.5\n",
    "print(height)\n",
    "print(type(height))\n",
    "print('===============')\n",
    "\n",
    "\n",
    "is_student = True\n",
    "print(is_student)\n",
    "print(type(is_student))"
   ]
  },
  {
   "cell_type": "markdown",
   "id": "52dc2d77",
   "metadata": {},
   "source": [
    "python 數學運算\n",
    "\n",
    "# 基本語法：變數名稱 = 值\n",
    "name = \"小明\"\n",
    "age = 18\n",
    "height = 175.5\n",
    "is_student = True"
   ]
  },
  {
   "cell_type": "code",
   "execution_count": 4,
   "id": "90e45e0d",
   "metadata": {},
   "outputs": [
    {
     "name": "stdout",
     "output_type": "stream",
     "text": [
      "name變數儲存的值是小明,資料類型是:<class 'str'>.\n",
      "age變數儲存的值是18,資料類型是:<class 'int'>.\n"
     ]
    }
   ],
   "source": [
    "print(\"name變數儲存的值是\",name,\",資料類型是:\",type(name),sep='',end='.\\n')\n",
    "print(\"age變數儲存的值是\",age,\",資料類型是:\",type(age),sep='',end='.\\n')\n"
   ]
  },
  {
   "cell_type": "code",
   "execution_count": 5,
   "id": "fe2edf94",
   "metadata": {},
   "outputs": [
    {
     "name": "stdout",
     "output_type": "stream",
     "text": [
      "斜邊長度 = 5.00\n"
     ]
    }
   ],
   "source": [
    "# 有一個直角三角形，已知兩邊長，求第三邊長\n",
    "# 已知兩邊長，求第三邊長\n",
    "\n",
    "import math\n",
    "\n",
    "adjacent_side = 3  # 鄰邊長度\n",
    "opposite_side = 4  # 對邊長度\n",
    "\n",
    "# 使用畢氏定理計算斜邊長度\n",
    "hypotenuse_length = math.sqrt(adjacent_side**2 + opposite_side**2)\n",
    "\n",
    "print(f\"斜邊長度 = {hypotenuse_length:.2f}\")"
   ]
  },
  {
   "cell_type": "code",
   "execution_count": null,
   "id": "7be0aa4f",
   "metadata": {},
   "outputs": [],
   "source": [
    "# 方法1：使用 ** 運算符 (指數運算)\n",
    "# 開平方 = 數字的 0.5 次方\n",
    "number = 16\n",
    "square_root1 = number ** 0.5\n",
    "print(f\"{number} 的平方根是: {square_root1}\")\n",
    "\n",
    "# 方法2：使用 math.sqrt() 函數\n",
    "import math\n",
    "square_root2 = math.sqrt(number)\n",
    "print(f\"{number} 的平方根是: {square_root2}\")\n",
    "\n",
    "# 方法3：使用 pow() 函數\n",
    "square_root3 = pow(number, 0.5)\n",
    "print(f\"{number} 的平方根是: {square_root3}\")\n"
   ]
  },
  {
   "cell_type": "code",
   "execution_count": null,
   "id": "7e2f8257",
   "metadata": {},
   "outputs": [],
   "source": [
    "# 更多開平方的例子\n",
    "numbers = [4, 9, 25, 36, 49, 64, 81, 100]\n",
    "\n",
    "print(\"數字\\t平方根\")\n",
    "print(\"-\" * 15)\n",
    "for num in numbers:\n",
    "    sqrt_result = num ** 0.5\n",
    "    print(f\"{num}\\t{sqrt_result}\")\n"
   ]
  },
  {
   "cell_type": "code",
   "execution_count": null,
   "id": "c4f535e6",
   "metadata": {},
   "outputs": [],
   "source": [
    "# 處理負數的情況\n",
    "import math\n",
    "\n",
    "# 負數開平方會產生複數\n",
    "negative_number = -4\n",
    "try:\n",
    "    # 使用 math.sqrt() 會出錯\n",
    "    result = math.sqrt(negative_number)\n",
    "    print(f\"{negative_number} 的平方根是: {result}\")\n",
    "except ValueError as e:\n",
    "    print(f\"錯誤: {e}\")\n",
    "\n",
    "# 使用 cmath 模組處理複數\n",
    "import cmath\n",
    "complex_result = cmath.sqrt(negative_number)\n",
    "print(f\"{negative_number} 的平方根是: {complex_result}\")\n"
   ]
  },
  {
   "cell_type": "code",
   "execution_count": null,
   "id": "d75a7814",
   "metadata": {},
   "outputs": [],
   "source": [
    "# 自定義開平方函數\n",
    "def my_sqrt(number):\n",
    "    \"\"\"\n",
    "    計算數字的平方根\n",
    "    參數: number - 要計算平方根的數字\n",
    "    返回: 平方根結果\n",
    "    \"\"\"\n",
    "    if number < 0:\n",
    "        return \"負數無法開平方根\"\n",
    "    return number ** 0.5\n",
    "\n",
    "# 測試自定義函數\n",
    "test_numbers = [16, 25, -9, 0, 1.44]\n",
    "for num in test_numbers:\n",
    "    result = my_sqrt(num)\n",
    "    print(f\"{num} 的平方根是: {result}\")\n"
   ]
  }
 ],
 "metadata": {
  "kernelspec": {
   "display_name": "langchain",
   "language": "python",
   "name": "python3"
  },
  "language_info": {
   "codemirror_mode": {
    "name": "ipython",
    "version": 3
   },
   "file_extension": ".py",
   "mimetype": "text/x-python",
   "name": "python",
   "nbconvert_exporter": "python",
   "pygments_lexer": "ipython3",
   "version": "3.11.13"
  }
 },
 "nbformat": 4,
 "nbformat_minor": 5
}
