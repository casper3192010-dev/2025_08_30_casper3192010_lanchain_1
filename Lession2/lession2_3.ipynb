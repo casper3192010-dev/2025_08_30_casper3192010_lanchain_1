{
 "cells": [
  {
   "cell_type": "code",
   "execution_count": 7,
   "id": "0d817458",
   "metadata": {},
   "outputs": [
    {
     "data": {
      "text/plain": [
       "0"
      ]
     },
     "execution_count": 7,
     "metadata": {},
     "output_type": "execute_result"
    }
   ],
   "source": [
    "i = 0\n",
    "for j in range(0):\n",
    "    i += j\n",
    "i"
   ]
  },
  {
   "cell_type": "code",
   "execution_count": 22,
   "id": "26e2a2b1",
   "metadata": {},
   "outputs": [
    {
     "ename": "SyntaxError",
     "evalue": "invalid syntax (2562749553.py, line 10)",
     "output_type": "error",
     "traceback": [
      "  \u001b[36mCell\u001b[39m\u001b[36m \u001b[39m\u001b[32mIn[22]\u001b[39m\u001b[32m, line 10\u001b[39m\n\u001b[31m    \u001b[39m\u001b[31melif guess<secret_number:\u001b[39m\n    ^\n\u001b[31mSyntaxError\u001b[39m\u001b[31m:\u001b[39m invalid syntax\n"
     ]
    }
   ],
   "source": [
    "import random\n",
    "secret_number = random.randint(1,10)\n",
    "\n",
    "while True: # 無限迴圈\n",
    "\n",
    "    guess = int(input(\"請猜一個1到10之間的數字: \"))\n",
    "    if guess == secret_number:\n",
    "        print(\"猜對了!\")\n",
    "        break # 跳出迴圈\n",
    "elif guess<secret_number:\n",
    "    print(\"太小了，請繼續猜\")\n",
    "else\n",
    "    print(\"太大了，請繼續猜\")\n",
    "\n",
    "print(\"遊戲結束\")\n"
   ]
  }
 ],
 "metadata": {
  "kernelspec": {
   "display_name": "langchain",
   "language": "python",
   "name": "python3"
  },
  "language_info": {
   "codemirror_mode": {
    "name": "ipython",
    "version": 3
   },
   "file_extension": ".py",
   "mimetype": "text/x-python",
   "name": "python",
   "nbconvert_exporter": "python",
   "pygments_lexer": "ipython3",
   "version": "3.11.13"
  }
 },
 "nbformat": 4,
 "nbformat_minor": 5
}
