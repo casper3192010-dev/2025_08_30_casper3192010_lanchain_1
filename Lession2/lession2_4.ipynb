{
 "cells": [
  {
   "cell_type": "code",
   "execution_count": 1,
   "id": "eebc4b27",
   "metadata": {},
   "outputs": [
    {
     "name": "stdout",
     "output_type": "stream",
     "text": [
      "   *   \n",
      "  ***  \n",
      " ***** \n",
      "*******\n",
      "   |   \n"
     ]
    }
   ],
   "source": [
    "#todo:實作function 列印聖誕樹    \n",
    "\n",
    "def print_christmas_tree():\n",
    "    # 樹葉部分\n",
    "    print(\"   *   \")\n",
    "    print(\"  ***  \")\n",
    "    print(\" ***** \")\n",
    "    print(\"*******\")\n",
    "    # 樹幹部分\n",
    "    print(\"   |   \")\n",
    "\n",
    "# 呼叫函式，列印聖誕樹\n",
    "print_christmas_tree()"
   ]
  },
  {
   "cell_type": "code",
   "execution_count": 2,
   "id": "97a697cf",
   "metadata": {},
   "outputs": [
    {
     "name": "stdout",
     "output_type": "stream",
     "text": [
      "圓面積 = 1661.90\n",
      "圓周長 = 144.51\n"
     ]
    }
   ],
   "source": [
    "#自訂一個function,會計算圓面積和圓周長\n",
    "#todo:實作function 計算圓面積和圓周長\n",
    "import math\n",
    "\n",
    "def calculate_circle(radius):\n",
    "    # 計算圓面積\n",
    "    area = math.pi * radius ** 2\n",
    "    # 計算圓周長\n",
    "    circumference = 2 * math.pi * radius\n",
    "    return area, circumference\n",
    "\n",
    "# 呼叫函式，計算圓面積和圓周長\n",
    "radius = float(input(\"請輸入圓的半徑: \"))\n",
    "area, circumference = calculate_circle(radius)\n",
    "print(f\"圓面積 = {area:.2f}\")\n",
    "print(f\"圓周長 = {circumference:.2f}\")\n"
   ]
  }
 ],
 "metadata": {
  "kernelspec": {
   "display_name": "langchain",
   "language": "python",
   "name": "python3"
  },
  "language_info": {
   "codemirror_mode": {
    "name": "ipython",
    "version": 3
   },
   "file_extension": ".py",
   "mimetype": "text/x-python",
   "name": "python",
   "nbconvert_exporter": "python",
   "pygments_lexer": "ipython3",
   "version": "3.11.13"
  }
 },
 "nbformat": 4,
 "nbformat_minor": 5
}
